{
 "cells": [
  {
   "cell_type": "code",
   "execution_count": 1,
   "metadata": {
    "collapsed": true
   },
   "outputs": [],
   "source": [
    "from __future__ import absolute_import\n",
    "from __future__ import division\n",
    "from __future__ import print_function\n",
    "\n",
    "import tensorflow as tf"
   ]
  },
  {
   "cell_type": "code",
   "execution_count": 2,
   "metadata": {
    "collapsed": true
   },
   "outputs": [],
   "source": [
    "config = tf.ConfigProto(\n",
    "  log_device_placement=True,\n",
    "  operation_timeout_in_ms=60000,\n",
    "  gpu_options=tf.GPUOptions(allow_growth=True))"
   ]
  },
  {
   "cell_type": "code",
   "execution_count": 3,
   "metadata": {
    "collapsed": false
   },
   "outputs": [
    {
     "name": "stdout",
     "output_type": "stream",
     "text": [
      "0.5\n"
     ]
    }
   ],
   "source": [
    "# The execution model\n",
    "tf.reset_default_graph()\n",
    "a = tf.constant(1.0)\n",
    "b = tf.constant(1.0)\n",
    "c = tf.constant(4.0)\n",
    "d = (a+b)/c\n",
    "with tf.Session(config=config) as sess:\n",
    "    print(sess.run(d))"
   ]
  },
  {
   "cell_type": "code",
   "execution_count": 4,
   "metadata": {
    "collapsed": false
   },
   "outputs": [
    {
     "name": "stdout",
     "output_type": "stream",
     "text": [
      "[[ 0.80702323  1.18467021]\n",
      " [ 1.09008515  0.83377922]]\n",
      "[[ 0.80702323  1.18467021]\n",
      " [ 1.09008515  0.83377922]]\n"
     ]
    }
   ],
   "source": [
    "# Variables\n",
    "tf.reset_default_graph()\n",
    "v = tf.get_variable(\"v\", shape=[2,2],\n",
    "                   initializer=tf.random_normal_initializer(stddev=0.35))\n",
    "x = v + 1.0\n",
    "init = tf.global_variables_initializer()\n",
    "\n",
    "with tf.Session(config=config) as sess:\n",
    "    writer = tf.summary.FileWriter('./graphs', sess.graph)\n",
    "    sess.run(init)\n",
    "    print(sess.run(x))\n",
    "    print(sess.run(x))\n",
    "writer.close()"
   ]
  },
  {
   "cell_type": "code",
   "execution_count": null,
   "metadata": {
    "collapsed": true
   },
   "outputs": [],
   "source": []
  }
 ],
 "metadata": {
  "kernelspec": {
   "display_name": "Python 2",
   "language": "python",
   "name": "python2"
  },
  "language_info": {
   "codemirror_mode": {
    "name": "ipython",
    "version": 2
   },
   "file_extension": ".py",
   "mimetype": "text/x-python",
   "name": "python",
   "nbconvert_exporter": "python",
   "pygments_lexer": "ipython2",
   "version": "2.7.12"
  }
 },
 "nbformat": 4,
 "nbformat_minor": 0
}
