{
 "cells": [
  {
   "cell_type": "code",
   "execution_count": 1,
   "metadata": {
    "collapsed": false
   },
   "outputs": [
    {
     "name": "stdout",
     "output_type": "stream",
     "text": [
      "Extracting /tmp/data/train-images-idx3-ubyte.gz\n",
      "Extracting /tmp/data/train-labels-idx1-ubyte.gz\n",
      "Extracting /tmp/data/t10k-images-idx3-ubyte.gz\n",
      "Extracting /tmp/data/t10k-labels-idx1-ubyte.gz\n"
     ]
    }
   ],
   "source": [
    "import tensorflow as tf\n",
    "\n",
    "# Import MNIST data\n",
    "from tensorflow.examples.tutorials.mnist import input_data\n",
    "mnist = input_data.read_data_sets(\"/tmp/data/\", one_hot=True)"
   ]
  },
  {
   "cell_type": "code",
   "execution_count": 2,
   "metadata": {
    "collapsed": true
   },
   "outputs": [],
   "source": [
    "# Parameters\n",
    "learning_rate = 0.01\n",
    "training_epochs = 25\n",
    "batch_size = 64\n",
    "display_step = 1\n",
    "\n",
    "# tf graph input\n",
    "x = tf.placeholder(tf.float32, [None, 784]) # mnist data image of shape 28*28\n",
    "y = tf.placeholder(tf.float32, [None, 10]) # 0-9 digits recognition\n",
    "\n",
    "# Set model weights\n",
    "W = tf.Variable(tf.zeros([784, 10]))\n",
    "b = tf.Variable(tf.zeros([10]))\n",
    "\n",
    "# Super small model\n",
    "pred = tf.nn.softmax(tf.matmul(x, W) + b) # Softmax\n",
    "\n",
    "# Minimize error using cross entropy\n",
    "cost = tf.reduce_mean(-tf.reduce_sum(y*tf.log(pred), reduction_indices=1))\n",
    "# Gradient Descent\n",
    "optimizer = tf.train.GradientDescentOptimizer(learning_rate).minimize(cost)\n",
    "\n",
    "# Initialize the variables (i.e. assign their default value)\n",
    "init = tf.global_variables_initializer()"
   ]
  },
  {
   "cell_type": "code",
   "execution_count": 3,
   "metadata": {
    "collapsed": false
   },
   "outputs": [
    {
     "name": "stdout",
     "output_type": "stream",
     "text": [
      "Epoch: 0001 cost= 1.010239578\n",
      "Epoch: 0002 cost= 0.568593397\n",
      "Epoch: 0003 cost= 0.484753971\n",
      "Epoch: 0004 cost= 0.443880309\n",
      "Epoch: 0005 cost= 0.418387473\n",
      "Epoch: 0006 cost= 0.400761684\n",
      "Epoch: 0007 cost= 0.388109925\n",
      "Epoch: 0008 cost= 0.376708710\n",
      "Epoch: 0009 cost= 0.368640141\n",
      "Epoch: 0010 cost= 0.361602521\n",
      "Epoch: 0011 cost= 0.355330619\n",
      "Epoch: 0012 cost= 0.350935934\n",
      "Epoch: 0013 cost= 0.345408299\n",
      "Epoch: 0014 cost= 0.341157148\n",
      "Epoch: 0015 cost= 0.337839970\n",
      "Epoch: 0016 cost= 0.334552501\n",
      "Epoch: 0017 cost= 0.331788829\n",
      "Epoch: 0018 cost= 0.328496132\n",
      "Epoch: 0019 cost= 0.326373791\n",
      "Epoch: 0020 cost= 0.323593188\n",
      "Epoch: 0021 cost= 0.321777787\n",
      "Epoch: 0022 cost= 0.319938545\n",
      "Epoch: 0023 cost= 0.317382313\n",
      "Epoch: 0024 cost= 0.315962023\n",
      "Epoch: 0025 cost= 0.314349162\n",
      "Optimization Finished!\n",
      "Accuracy: 0.895667\n"
     ]
    }
   ],
   "source": [
    "# Start training\n",
    "with tf.Session() as sess:\n",
    "    sess.run(init)\n",
    "    \n",
    "    # Training cycle\n",
    "    for epoch in range(training_epochs):\n",
    "        avg_cost = 0.\n",
    "        total_batch = int(mnist.train.num_examples/batch_size)\n",
    "        # Loop over all batches\n",
    "        for i in range(total_batch):\n",
    "            batch_xs, batch_ys = mnist.train.next_batch(batch_size)\n",
    "            # Fit training using batch data\n",
    "            _, c = sess.run([optimizer, cost], feed_dict={x: batch_xs,\n",
    "                                                          y: batch_ys})\n",
    "            \n",
    "            # Compute average Loss\n",
    "            avg_cost += c / total_batch\n",
    "        # Display logs per epoch step\n",
    "        if (epoch+1) % display_step == 0:\n",
    "            print \"Epoch:\", '%04d' % (epoch+1), \"cost=\", \"{:.9f}\".format(avg_cost)\n",
    "    print \"Optimization Finished!\"\n",
    "    \n",
    "    # Test model\n",
    "    correct_prediction = tf.equal(tf.argmax(pred, 1), tf.argmax(y, 1))\n",
    "    # Calculate accuracy for 3000 examples\n",
    "    accuracy = tf.reduce_mean(tf.cast(correct_prediction, tf.float32))\n",
    "    print \"Accuracy:\", accuracy.eval({x: mnist.test.images[:3000], y: mnist.test.labels[:3000]})"
   ]
  },
  {
   "cell_type": "code",
   "execution_count": null,
   "metadata": {
    "collapsed": true
   },
   "outputs": [],
   "source": []
  }
 ],
 "metadata": {
  "kernelspec": {
   "display_name": "Python 2",
   "language": "python",
   "name": "python2"
  },
  "language_info": {
   "codemirror_mode": {
    "name": "ipython",
    "version": 2
   },
   "file_extension": ".py",
   "mimetype": "text/x-python",
   "name": "python",
   "nbconvert_exporter": "python",
   "pygments_lexer": "ipython2",
   "version": "2.7.12"
  }
 },
 "nbformat": 4,
 "nbformat_minor": 0
}
